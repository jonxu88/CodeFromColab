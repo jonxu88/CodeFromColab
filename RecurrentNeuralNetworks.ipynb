{
  "nbformat": 4,
  "nbformat_minor": 0,
  "metadata": {
    "colab": {
      "name": "RecurrentNeuralNetworks.ipynb",
      "provenance": [],
      "authorship_tag": "ABX9TyNpRmtVjXa7KXoRIdSd6lnI",
      "include_colab_link": true
    },
    "kernelspec": {
      "name": "python3",
      "display_name": "Python 3"
    },
    "accelerator": "GPU"
  },
  "cells": [
    {
      "cell_type": "markdown",
      "metadata": {
        "id": "view-in-github",
        "colab_type": "text"
      },
      "source": [
        "<a href=\"https://colab.research.google.com/github/jonxu88/CodeFromColab/blob/main/RecurrentNeuralNetworks.ipynb\" target=\"_parent\"><img src=\"https://colab.research.google.com/assets/colab-badge.svg\" alt=\"Open In Colab\"/></a>"
      ]
    },
    {
      "cell_type": "code",
      "metadata": {
        "colab": {
          "base_uri": "https://localhost:8080/"
        },
        "id": "RtkovEma392A",
        "outputId": "a695d1e1-34d4-43e2-a7c8-b591b70f7939"
      },
      "source": [
        "#Following sentdex https://www.youtube.com/watch?v=BSpXCRTOLJA\r\n",
        "#validation accuracy = 0.98\r\n",
        "import tensorflow as tf\r\n",
        "from tensorflow.keras.models import Sequential\r\n",
        "from tensorflow.keras.layers import Dense, Dropout, LSTM #There is a GPU optimised version called CUDNN??\r\n",
        "\r\n",
        "mnist = tf.keras.datasets.mnist\r\n",
        "\r\n",
        "(x_train, y_train), (x_test, y_test) = mnist.load_data()\r\n",
        "\r\n",
        "#BELOW IS IMPORTANT, OTHERWISE ACCURACY IS LOW\r\n",
        "x_train = x_train/255.0\r\n",
        "x_test = x_test/255.0\r\n",
        "\r\n",
        "print(x_train.shape)\r\n",
        "print(x_train[0].shape)\r\n",
        "\r\n",
        "model = Sequential()\r\n",
        "\r\n",
        "model.add(LSTM(128, input_shape=(x_train.shape[1:]),activation='relu', return_sequences=True))\r\n",
        "model.add(Dropout(0.2))\r\n",
        "\r\n",
        "model.add(LSTM(128, activation='relu'))\r\n",
        "model.add(Dropout(0.2))\r\n",
        "\r\n",
        "model.add(Dense(32, activation='relu'))\r\n",
        "model.add(Dropout(0.2))\r\n",
        "\r\n",
        "model.add(Dense(10, activation='softmax'))\r\n",
        "\r\n",
        "opt = tf.keras.optimizers.Adam(lr=1e-3, decay=1e-5)\r\n",
        "\r\n",
        "model.compile(loss='sparse_categorical_crossentropy',\r\n",
        "              optimizer=opt, metrics=['accuracy'])\r\n",
        "\r\n",
        "model.fit(x_train, y_train, epochs=3, validation_data=(x_test, y_test))\r\n",
        "\r\n"
      ],
      "execution_count": 1,
      "outputs": [
        {
          "output_type": "stream",
          "text": [
            "(60000, 28, 28)\n",
            "(28, 28)\n",
            "WARNING:tensorflow:Layer lstm will not use cuDNN kernel since it doesn't meet the cuDNN kernel criteria. It will use generic GPU kernel as fallback when running on GPU\n",
            "WARNING:tensorflow:Layer lstm_1 will not use cuDNN kernel since it doesn't meet the cuDNN kernel criteria. It will use generic GPU kernel as fallback when running on GPU\n",
            "Epoch 1/3\n",
            "1875/1875 [==============================] - 72s 38ms/step - loss: 1.1245 - accuracy: 0.6061 - val_loss: 0.1681 - val_accuracy: 0.9474\n",
            "Epoch 2/3\n",
            "1875/1875 [==============================] - 74s 39ms/step - loss: 0.1854 - accuracy: 0.9478 - val_loss: 0.0864 - val_accuracy: 0.9748\n",
            "Epoch 3/3\n",
            "1875/1875 [==============================] - 71s 38ms/step - loss: 0.1296 - accuracy: 0.9649 - val_loss: 0.0751 - val_accuracy: 0.9800\n"
          ],
          "name": "stdout"
        },
        {
          "output_type": "execute_result",
          "data": {
            "text/plain": [
              "<tensorflow.python.keras.callbacks.History at 0x7f25d045a860>"
            ]
          },
          "metadata": {
            "tags": []
          },
          "execution_count": 1
        }
      ]
    }
  ]
}