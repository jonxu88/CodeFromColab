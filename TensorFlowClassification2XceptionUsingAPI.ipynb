{
  "nbformat": 4,
  "nbformat_minor": 0,
  "metadata": {
    "colab": {
      "name": "TensorFlowClassification2XceptionUsingAPI.ipynb",
      "provenance": [],
      "collapsed_sections": [],
      "authorship_tag": "ABX9TyPqUOBLCld67g1kGPP9aRng",
      "include_colab_link": true
    },
    "kernelspec": {
      "name": "python3",
      "display_name": "Python 3"
    },
    "accelerator": "GPU"
  },
  "cells": [
    {
      "cell_type": "markdown",
      "metadata": {
        "id": "view-in-github",
        "colab_type": "text"
      },
      "source": [
        "<a href=\"https://colab.research.google.com/github/jonxu88/CodeFromColab/blob/main/TensorFlowClassification2XceptionUsingAPI.ipynb\" target=\"_parent\"><img src=\"https://colab.research.google.com/assets/colab-badge.svg\" alt=\"Open In Colab\"/></a>"
      ]
    },
    {
      "cell_type": "code",
      "metadata": {
        "colab": {
          "base_uri": "https://localhost:8080/"
        },
        "id": "WJcDxmrMnshL",
        "outputId": "250d202a-6a23-4eb9-ce7f-2dbaed027d10"
      },
      "source": [
        "#Classification of CIFAR10, by implementing Xception, directly from the Keras API\r\n",
        "#No weights preloaded\r\n",
        "\r\n",
        "import tensorflow as tf\r\n",
        "import keras\r\n",
        "from tensorflow.keras import layers\r\n",
        "from tensorflow.keras import Sequential as Sequential\r\n",
        "import numpy as np\r\n",
        "import matplotlib.pyplot as plt\r\n",
        "\r\n",
        "cifar10 = tf.keras.datasets.cifar10\r\n",
        "\r\n",
        "(train_images, train_labels), (test_images, test_labels) = cifar10.load_data()\r\n",
        "\r\n",
        "#Labels are just from 0 to 9, so let's store the actual class names\r\n",
        "class_names =['airplane', 'automobile', 'bird', 'cat', 'deer', 'dog', 'frog', 'horse', 'ship', 'truck']\r\n"
      ],
      "execution_count": 1,
      "outputs": [
        {
          "output_type": "stream",
          "text": [
            "Downloading data from https://www.cs.toronto.edu/~kriz/cifar-10-python.tar.gz\n",
            "170500096/170498071 [==============================] - 4s 0us/step\n"
          ],
          "name": "stdout"
        }
      ]
    },
    {
      "cell_type": "code",
      "metadata": {
        "id": "8pQf-flJqC_l"
      },
      "source": [
        "#Inspect images/dimensions etc\r\n",
        "\r\n",
        "# Resize pictures from 32x32 to 299x299 to be accepted as input by Xception\r\n",
        "\r\n",
        "\r\n",
        "# plt.figure(figsize=(10,10))\r\n",
        "# for i in range(25):\r\n",
        "#     plt.subplot(5,5,i+1)\r\n",
        "#     plt.xticks([])\r\n",
        "#     plt.yticks([])\r\n",
        "#     plt.grid(False)\r\n",
        "#     plt.imshow(train_images[i], cmap=plt.cm.binary)\r\n",
        "#     plt.xlabel(class_names[int(train_labels[i])])\r\n",
        "# plt.show()\r\n",
        "\r\n",
        "# plt.figure()\r\n",
        "# plt.imshow(a)\r\n",
        "# plt.colorbar()\r\n",
        "# plt.grid(False)\r\n",
        "# plt.show()\r\n",
        "\r\n",
        "# plt.figure(figsize=(10,10))\r\n",
        "# for i in range(25):\r\n",
        "#     plt.subplot(5,5,i+1)\r\n",
        "#     plt.xticks([])\r\n",
        "#     plt.yticks([])\r\n",
        "#     plt.grid(False)\r\n",
        "#     plt.imshow(train_images[i], cmap=plt.cm.binary)\r\n",
        "#     plt.xlabel(class_names[int(train_labels[i])])\r\n",
        "# plt.show()\r\n",
        "\r\n",
        "\r\n"
      ],
      "execution_count": 2,
      "outputs": []
    },
    {
      "cell_type": "code",
      "metadata": {
        "colab": {
          "base_uri": "https://localhost:8080/"
        },
        "id": "D37RaX9YsHi7",
        "outputId": "361ad194-094e-4076-945b-dc82f8655878"
      },
      "source": [
        "#Currently, train_images consists of 50000 different 32 by 32 by 3 matrices, with entries an integer between 0 and 255\r\n",
        "#The type of these integers is 'numpy.uint8'. It is now converted into a float32.\r\n",
        "\r\n",
        "train_images = train_images.astype('float32')\r\n",
        "test_images = test_images.astype('float32')\r\n",
        "\r\n",
        "train_images = (train_images - 127.5)/127.5\r\n",
        "test_images = (test_images -127.5)/127.5\r\n",
        "\r\n",
        "print(train_images[0])\r\n"
      ],
      "execution_count": 3,
      "outputs": [
        {
          "output_type": "stream",
          "text": [
            "[[[-0.5372549  -0.5137255  -0.5058824 ]\n",
            "  [-0.6627451  -0.6392157  -0.64705884]\n",
            "  [-0.60784316 -0.62352943 -0.6627451 ]\n",
            "  ...\n",
            "  [ 0.23921569  0.03529412 -0.15294118]\n",
            "  [ 0.19215687 -0.01960784 -0.2       ]\n",
            "  [ 0.16078432 -0.02745098 -0.19215687]]\n",
            "\n",
            " [[-0.8745098  -0.84313726 -0.84313726]\n",
            "  [-1.         -1.         -1.        ]\n",
            "  [-0.85882354 -0.9372549  -1.        ]\n",
            "  ...\n",
            "  [-0.03529412 -0.30980393 -0.5686275 ]\n",
            "  [-0.06666667 -0.34901962 -0.60784316]\n",
            "  [-0.04313726 -0.31764707 -0.5529412 ]]\n",
            "\n",
            " [[-0.8039216  -0.8117647  -0.8352941 ]\n",
            "  [-0.8745098  -0.94509804 -1.        ]\n",
            "  [-0.6156863  -0.7882353  -0.9372549 ]\n",
            "  ...\n",
            "  [-0.07450981 -0.34117648 -0.60784316]\n",
            "  [-0.05882353 -0.34117648 -0.60784316]\n",
            "  [-0.14509805 -0.42745098 -0.67058825]]\n",
            "\n",
            " ...\n",
            "\n",
            " [[ 0.6313726   0.33333334 -0.24705882]\n",
            "  [ 0.5764706   0.2        -0.73333335]\n",
            "  [ 0.5529412   0.2627451  -0.79607844]\n",
            "  ...\n",
            "  [ 0.25490198  0.04313726 -0.4509804 ]\n",
            "  [-0.56078434 -0.75686276 -0.94509804]\n",
            "  [-0.58431375 -0.73333335 -0.84313726]]\n",
            "\n",
            " [[ 0.4117647   0.09019608 -0.24705882]\n",
            "  [ 0.35686275 -0.03529412 -0.67058825]\n",
            "  [ 0.45882353  0.12941177 -0.7647059 ]\n",
            "  ...\n",
            "  [ 0.44313726  0.16078432 -0.2627451 ]\n",
            "  [-0.23921569 -0.5137255  -0.73333335]\n",
            "  [-0.34901962 -0.58431375 -0.73333335]]\n",
            "\n",
            " [[ 0.3882353   0.12941177 -0.09019608]\n",
            "  [ 0.31764707  0.01176471 -0.2627451 ]\n",
            "  [ 0.40392157  0.11372549 -0.31764707]\n",
            "  ...\n",
            "  [ 0.69411767  0.44313726  0.09803922]\n",
            "  [ 0.18431373 -0.07450981 -0.34117648]\n",
            "  [-0.03529412 -0.2784314  -0.43529412]]]\n"
          ],
          "name": "stdout"
        }
      ]
    },
    {
      "cell_type": "code",
      "metadata": {
        "colab": {
          "base_uri": "https://localhost:8080/"
        },
        "id": "8w_C1u-k9bEg",
        "outputId": "71e8bbe0-e787-4dba-d525-0c8c34818cbf"
      },
      "source": [
        "#Note: Xception doesn't seem to like any input dimension less than 71, for example, in our case, 32.\r\n",
        "#There is extra stuff here to add a preprocessing layer to the beginning of the xception model\r\n",
        "#which converts the 32 x 32 images to 96 x 96 images.\r\n",
        "\r\n",
        "\r\n",
        "inputs = keras.Input(shape=(32,32,3))\r\n",
        "preprocessing_layer = tf.keras.layers.experimental.preprocessing.Resizing(96,96)\r\n",
        "x = preprocessing_layer(inputs)\r\n",
        "#Import Xception from the Keras API\r\n",
        "xception_model_without_preprocessing = keras.applications.Xception(weights=None, input_shape=(96,96,3), classes=10)\r\n",
        "\r\n",
        "outputs = xception_model_without_preprocessing(x)\r\n",
        "xception_model = keras.Model(inputs,outputs)\r\n",
        "\r\n",
        "\r\n",
        "xception_model.summary()\r\n",
        "\r\n",
        "\r\n",
        "\r\n"
      ],
      "execution_count": 4,
      "outputs": [
        {
          "output_type": "stream",
          "text": [
            "Model: \"model\"\n",
            "_________________________________________________________________\n",
            "Layer (type)                 Output Shape              Param #   \n",
            "=================================================================\n",
            "input_1 (InputLayer)         [(None, 32, 32, 3)]       0         \n",
            "_________________________________________________________________\n",
            "resizing (Resizing)          (None, 96, 96, 3)         0         \n",
            "_________________________________________________________________\n",
            "xception (Functional)        (None, 10)                20881970  \n",
            "=================================================================\n",
            "Total params: 20,881,970\n",
            "Trainable params: 20,827,442\n",
            "Non-trainable params: 54,528\n",
            "_________________________________________________________________\n"
          ],
          "name": "stdout"
        }
      ]
    },
    {
      "cell_type": "code",
      "metadata": {
        "colab": {
          "base_uri": "https://localhost:8080/"
        },
        "id": "bC9psdeDItLw",
        "outputId": "58da2a13-9886-46f7-a5cb-73e0320aa653"
      },
      "source": [
        "#Compile the model\r\n",
        "model = xception_model\r\n",
        "\r\n",
        "model.compile(optimizer=keras.optimizers.Adam(lr=0.01), loss=tf.keras.losses.SparseCategoricalCrossentropy(from_logits=True), metrics=['accuracy'])\r\n",
        "\r\n",
        "model.fit(train_images, train_labels, epochs=15)\r\n",
        "\r\n",
        "test_loss, test_acc = model.evaluate(test_images, test_labels, verbose=2)\r\n",
        "\r\n",
        "print('\\nTest accuracy:', test_acc)"
      ],
      "execution_count": 5,
      "outputs": [
        {
          "output_type": "stream",
          "text": [
            "Epoch 1/15\n",
            "1563/1563 [==============================] - 134s 79ms/step - loss: 2.4252 - accuracy: 0.2228\n",
            "Epoch 2/15\n",
            "1563/1563 [==============================] - 122s 78ms/step - loss: 1.4745 - accuracy: 0.4606\n",
            "Epoch 3/15\n",
            "1563/1563 [==============================] - 122s 78ms/step - loss: 1.1164 - accuracy: 0.5995\n",
            "Epoch 4/15\n",
            "1563/1563 [==============================] - 122s 78ms/step - loss: 0.8316 - accuracy: 0.7099\n",
            "Epoch 5/15\n",
            "1563/1563 [==============================] - 122s 78ms/step - loss: 0.6410 - accuracy: 0.7776\n",
            "Epoch 6/15\n",
            "1563/1563 [==============================] - 122s 78ms/step - loss: 0.5202 - accuracy: 0.8206\n",
            "Epoch 7/15\n",
            "1563/1563 [==============================] - 121s 78ms/step - loss: 0.4133 - accuracy: 0.8536\n",
            "Epoch 8/15\n",
            "1563/1563 [==============================] - 121s 78ms/step - loss: 0.3417 - accuracy: 0.8797\n",
            "Epoch 9/15\n",
            "1563/1563 [==============================] - 121s 78ms/step - loss: 0.2721 - accuracy: 0.9045\n",
            "Epoch 10/15\n",
            "1563/1563 [==============================] - 122s 78ms/step - loss: 0.2176 - accuracy: 0.9232\n",
            "Epoch 11/15\n",
            "1563/1563 [==============================] - 121s 78ms/step - loss: 0.1753 - accuracy: 0.9378\n",
            "Epoch 12/15\n",
            "1563/1563 [==============================] - 121s 78ms/step - loss: 0.1570 - accuracy: 0.9450\n",
            "Epoch 13/15\n",
            "1563/1563 [==============================] - 121s 78ms/step - loss: 0.1310 - accuracy: 0.9545\n",
            "Epoch 14/15\n",
            "1563/1563 [==============================] - 121s 78ms/step - loss: 0.1196 - accuracy: 0.9572\n",
            "Epoch 15/15\n",
            "1563/1563 [==============================] - 121s 78ms/step - loss: 0.1068 - accuracy: 0.9625\n",
            "313/313 - 6s - loss: 0.8149 - accuracy: 0.8133\n",
            "\n",
            "Test accuracy: 0.8133000135421753\n"
          ],
          "name": "stdout"
        }
      ]
    }
  ]
}