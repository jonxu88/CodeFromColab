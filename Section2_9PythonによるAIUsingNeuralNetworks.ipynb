{
  "nbformat": 4,
  "nbformat_minor": 0,
  "metadata": {
    "colab": {
      "name": "Section2.9PythonによるAIUsingNeuralNetworks.ipynb",
      "provenance": [],
      "collapsed_sections": [],
      "mount_file_id": "10GOehSYnxzwdUYLzUVIDkYGiSdBox6ZM",
      "authorship_tag": "ABX9TyMmEp7fmU4Qzo7NVwL5jczM",
      "include_colab_link": true
    },
    "kernelspec": {
      "name": "python3",
      "display_name": "Python 3"
    }
  },
  "cells": [
    {
      "cell_type": "markdown",
      "metadata": {
        "id": "view-in-github",
        "colab_type": "text"
      },
      "source": [
        "<a href=\"https://colab.research.google.com/github/jonxu88/CodeFromColab/blob/main/Section2_9Python%E3%81%AB%E3%82%88%E3%82%8BAIUsingNeuralNetworks.ipynb\" target=\"_parent\"><img src=\"https://colab.research.google.com/assets/colab-badge.svg\" alt=\"Open In Colab\"/></a>"
      ]
    },
    {
      "cell_type": "code",
      "metadata": {
        "colab": {
          "base_uri": "https://localhost:8080/"
        },
        "id": "WJcDxmrMnshL",
        "outputId": "87d99b28-4c7d-4366-8150-a23afb3f27b4"
      },
      "source": [
        "#Modification of the exercise in Section 2.9 of PythonによるAIプログラミング入門\n",
        "\n",
        "import tensorflow as tf\n",
        "from tensorflow.keras import layers\n",
        "import numpy as np\n",
        "import matplotlib.pyplot as plt\n",
        "%matplotlib inline\n",
        "from sklearn import preprocessing\n",
        "from sklearn.svm import LinearSVC\n",
        "from sklearn.multiclass import OneVsOneClassifier\n",
        "from sklearn import model_selection\n",
        "\n",
        "#Use google drive as root directory\n",
        "from google.colab import drive\n",
        "drive.mount('/content/drive/', force_remount=True) \n",
        "\n",
        "input_file = '/content/drive/MyDrive/income_data.txt'\n"
      ],
      "execution_count": 1,
      "outputs": [
        {
          "output_type": "stream",
          "text": [
            "Mounted at /content/drive/\n"
          ],
          "name": "stdout"
        }
      ]
    },
    {
      "cell_type": "code",
      "metadata": {
        "id": "8pQf-flJqC_l"
      },
      "source": [
        "Xy = []\n",
        "count_class1 = 0\n",
        "count_class2 = 0\n",
        "max_datapoints = 25000\n",
        "\n"
      ],
      "execution_count": 2,
      "outputs": []
    },
    {
      "cell_type": "code",
      "metadata": {
        "id": "D37RaX9YsHi7"
      },
      "source": [
        "#Preprocessing (???) read in the data\n",
        "with open(input_file, 'r') as f:\n",
        "    for line in f.readlines():\n",
        "        if count_class1 >= max_datapoints and count_class2 >= max_datapoints:\n",
        "            break\n",
        "            \n",
        "        if '?' in line: #skip if a line contains '?'\n",
        "            continue\n",
        "        \n",
        "        data = line[:-1].split(', ') #split the lines according to comma+space (space is important!)\n",
        "        \n",
        "        if data[-1] == '<=50K' and count_class1 < max_datapoints:\n",
        "            Xy.append(data)\n",
        "            count_class1 += 1\n",
        "            \n",
        "        if data[-1] == '>50K' and count_class2 < max_datapoints:\n",
        "            Xy.append(data)\n",
        "            count_class2 += 1\n"
      ],
      "execution_count": 3,
      "outputs": []
    },
    {
      "cell_type": "code",
      "metadata": {
        "colab": {
          "base_uri": "https://localhost:8080/"
        },
        "id": "Z9zqOqgCiWCp",
        "outputId": "3a21debb-526e-477d-ba61-c99c9aa6d994"
      },
      "source": [
        "Xy = np.array(Xy) #Turninto a numpy array\n",
        "print(Xy[0])"
      ],
      "execution_count": 4,
      "outputs": [
        {
          "output_type": "stream",
          "text": [
            "['39' 'State-gov' '77516' 'Bachelors' '13' 'Never-married' 'Adm-clerical'\n",
            " 'Not-in-family' 'White' 'Male' '2174' '0' '40' 'United-States' '<=50K']\n"
          ],
          "name": "stdout"
        }
      ]
    },
    {
      "cell_type": "code",
      "metadata": {
        "id": "glyb1N6Kiwv1"
      },
      "source": [
        "label_encoder = []\n",
        "Xy_encoded = np.empty(Xy.shape)\n",
        "for i, item in enumerate(Xy[0]):  #The enumerate command gives each element of Xy[0] a number\n",
        "    if item.isdigit():\n",
        "        Xy_encoded[:, i] = Xy[:, i] #Numbers just get sent to numbers\n",
        "    else:\n",
        "        encoder = preprocessing.LabelEncoder()\n",
        "        Xy_encoded[:, i] = encoder.fit_transform(Xy[:, i]) #This assigns each non-numerical label to a number\n",
        "        label_encoder.append(encoder) #Why is this here?\n",
        "\n",
        "X = Xy_encoded[:, :-1].astype(int)\n",
        "y = Xy_encoded[:, -1].astype(int)\n",
        "\n",
        "X_train, X_test, y_train, y_test = model_selection.train_test_split(X, y,\n",
        "                                                                   test_size=0.2, random_state=5)\n"
      ],
      "execution_count": 5,
      "outputs": []
    },
    {
      "cell_type": "code",
      "metadata": {
        "id": "8nXJnpl-tSgg"
      },
      "source": [
        "model = tf.keras.Sequential()\n",
        "model.add(layers.Dense(64, activation='relu'))\n",
        "model.add(layers.Dense(64, activation='relu'))\n",
        "model.add(layers.Dense(16, activation='relu'))\n",
        "model.add(layers.Dense(1, activation='sigmoid'))\n",
        "#slightly different from the tutorial!\n",
        "\n",
        "#compile the model with the adam optimizer, sparsecategoricalcrossentropy loss, and measure the accuracy metrics\n",
        "model.compile(optimizer='adam', loss='binary_crossentropy',metrics=['accuracy'])\n"
      ],
      "execution_count": 7,
      "outputs": []
    },
    {
      "cell_type": "code",
      "metadata": {
        "colab": {
          "base_uri": "https://localhost:8080/"
        },
        "id": "J9dtbBLSjRrl",
        "outputId": "15b9c482-5447-49f7-e1c4-2a397c4775c2"
      },
      "source": [
        "#Feed the training data into the neural network\n",
        "model.fit(X_train, y_train, epochs=15)\n",
        "\n",
        "test_loss, test_acc = model.evaluate(X_test, y_test, verbose=2)\n",
        "\n",
        "print('\\nTest accuracy:', test_acc)\n",
        "#NOTE: Accuracy score using SVM is 79.89"
      ],
      "execution_count": 9,
      "outputs": [
        {
          "output_type": "stream",
          "text": [
            "Epoch 1/15\n",
            "755/755 [==============================] - 1s 2ms/step - loss: 13.1069 - accuracy: 0.6769\n",
            "Epoch 2/15\n",
            "755/755 [==============================] - 1s 2ms/step - loss: 6.7109 - accuracy: 0.6820\n",
            "Epoch 3/15\n",
            "755/755 [==============================] - 1s 2ms/step - loss: 7.6179 - accuracy: 0.6791\n",
            "Epoch 4/15\n",
            "755/755 [==============================] - 1s 2ms/step - loss: 4.8529 - accuracy: 0.6818\n",
            "Epoch 5/15\n",
            "755/755 [==============================] - 1s 2ms/step - loss: 4.2659 - accuracy: 0.6873\n",
            "Epoch 6/15\n",
            "755/755 [==============================] - 1s 2ms/step - loss: 2.6342 - accuracy: 0.6897\n",
            "Epoch 7/15\n",
            "755/755 [==============================] - 1s 2ms/step - loss: 2.2662 - accuracy: 0.6895\n",
            "Epoch 8/15\n",
            "755/755 [==============================] - 1s 2ms/step - loss: 1.3469 - accuracy: 0.7040\n",
            "Epoch 9/15\n",
            "755/755 [==============================] - 1s 2ms/step - loss: 0.9635 - accuracy: 0.7260\n",
            "Epoch 10/15\n",
            "755/755 [==============================] - 1s 2ms/step - loss: 0.7623 - accuracy: 0.7367\n",
            "Epoch 11/15\n",
            "755/755 [==============================] - 1s 2ms/step - loss: 0.6316 - accuracy: 0.7691\n",
            "Epoch 12/15\n",
            "755/755 [==============================] - 1s 2ms/step - loss: 1.9150 - accuracy: 0.7716\n",
            "Epoch 13/15\n",
            "755/755 [==============================] - 1s 2ms/step - loss: 0.5655 - accuracy: 0.7593\n",
            "Epoch 14/15\n",
            "755/755 [==============================] - 1s 2ms/step - loss: 0.5363 - accuracy: 0.7710\n",
            "Epoch 15/15\n",
            "755/755 [==============================] - 1s 2ms/step - loss: 0.5109 - accuracy: 0.7858\n",
            "189/189 - 0s - loss: 0.5027 - accuracy: 0.7877\n",
            "\n",
            "Test accuracy: 0.7876678109169006\n"
          ],
          "name": "stdout"
        }
      ]
    }
  ]
}
