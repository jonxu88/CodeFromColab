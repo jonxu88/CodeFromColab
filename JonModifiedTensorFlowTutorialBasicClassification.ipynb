{
  "nbformat": 4,
  "nbformat_minor": 0,
  "metadata": {
    "colab": {
      "name": "JonModifiedTensorFlowTutorialBasicClassification.ipynb",
      "provenance": [],
      "collapsed_sections": [],
      "authorship_tag": "ABX9TyPBZes5FfrveB0EabE22xok",
      "include_colab_link": true
    },
    "kernelspec": {
      "name": "python3",
      "display_name": "Python 3"
    }
  },
  "cells": [
    {
      "cell_type": "markdown",
      "metadata": {
        "id": "view-in-github",
        "colab_type": "text"
      },
      "source": [
        "<a href=\"https://colab.research.google.com/github/jonxu88/CodeFromColab/blob/main/JonModifiedTensorFlowTutorialBasicClassification.ipynb\" target=\"_parent\"><img src=\"https://colab.research.google.com/assets/colab-badge.svg\" alt=\"Open In Colab\"/></a>"
      ]
    },
    {
      "cell_type": "code",
      "metadata": {
        "colab": {
          "base_uri": "https://localhost:8080/"
        },
        "id": "6CuFBHfAj_d7",
        "outputId": "87f4d549-077b-49c2-f37a-9142bf81ea87"
      },
      "source": [
        "#In order to learn the implementation of a convolutional network, I added some convolutional layers\r\n",
        "#to the Basic Classification Exercise given in the keras tutorial: https://www.tensorflow.org/tutorials/keras/classification\r\n",
        "#As well, some hyperparemeters were altered to see how they affected accuracy.\r\n",
        "\r\n",
        "import tensorflow as tf\r\n",
        "from tensorflow.keras import layers\r\n",
        "import numpy as np\r\n",
        "import matplotlib.pyplot as plt\r\n",
        "\r\n",
        "print(tf.__version__)\r\n",
        "\r\n",
        "fashion_mnist = tf.keras.datasets.fashion_mnist\r\n",
        "\r\n",
        "(train_images, train_labels), (test_images, test_labels) = fashion_mnist.load_data()\r\n",
        "\r\n",
        "print(train_images.shape)\r\n",
        "print(train_labels.shape)\r\n",
        "\r\n",
        "class_names = ['T-shirt/top', 'Trouser', 'Pullover', 'Dress', 'Coat',\r\n",
        "               'Sandal', 'Shirt', 'Sneaker', 'Bag', 'Ankle boot']"
      ],
      "execution_count": null,
      "outputs": [
        {
          "output_type": "stream",
          "text": [
            "2.3.0\n",
            "(60000, 28, 28)\n",
            "(60000,)\n"
          ],
          "name": "stdout"
        }
      ]
    },
    {
      "cell_type": "code",
      "metadata": {
        "id": "BqlbK-kcljn3"
      },
      "source": [
        "\r\n",
        "\r\n",
        "#NEW: Reshape so that it can be put into a convolutional layer\r\n",
        "train_images = train_images.reshape(train_images.shape[0], 28, 28, 1).astype('float32')\r\n",
        "test_images = test_images.reshape(test_images.shape[0], 28, 28, 1).astype('float32')\r\n",
        "\r\n",
        "train_images = (train_images - 127.5)/127.5\r\n",
        "test_images = (test_images -127.5)/127.5\r\n",
        "\r\n",
        "\r\n",
        "\r\n"
      ],
      "execution_count": null,
      "outputs": []
    },
    {
      "cell_type": "code",
      "metadata": {
        "id": "Z9eXjHbom0-u",
        "colab": {
          "base_uri": "https://localhost:8080/"
        },
        "outputId": "6ce3aa40-a22f-4ff5-baff-ea2652856666"
      },
      "source": [
        "#From here on are neural network models with various hyperparameters.\r\n",
        "\r\n",
        "#173738 parameters with accuracy 0.9539 on training set and 0.9075 on test set\r\n",
        "\r\n",
        "model = tf.keras.Sequential()\r\n",
        "#trying to add a convolutional layer to add to the code\r\n",
        "model.add(layers.Conv2D(32,(3,3), activation = 'relu', input_shape=(28,28,1)))\r\n",
        "model.add(layers.MaxPooling2D((2,2)))\r\n",
        "model.add(layers.Flatten())\r\n",
        "model.add(layers.Dense(32, activation='relu'))\r\n",
        "model.add(layers.Dense(10))\r\n",
        "#slightly different from the tutorial!\r\n",
        "\r\n",
        "#compile the model with the adam optimizer, sparsecategoricalcrossentropy loss, and measure the accuracy metrics\r\n",
        "model.compile(optimizer='adam', loss=tf.keras.losses.SparseCategoricalCrossentropy(from_logits=True),metrics=['accuracy'])\r\n",
        "#What is the learning rate? My guess is that it uses the default learning rate , see \r\n",
        "#'Adam Configuration Parameters' here: \r\n",
        "#https://machinelearningmastery.com/adam-optimization-algorithm-for-deep-learning/\r\n",
        "\r\n",
        "model.summary()\r\n",
        "\r\n",
        "#Feed the training data into the neural network\r\n",
        "model.fit(train_images, train_labels, epochs=10)\r\n",
        "\r\n",
        "#Evaluate accuracy\r\n",
        "test_loss, test_acc = model.evaluate(test_images, test_labels, verbose=2)\r\n",
        "\r\n",
        "print('\\nTest accuracy:', test_acc)\r\n"
      ],
      "execution_count": null,
      "outputs": [
        {
          "output_type": "stream",
          "text": [
            "Model: \"sequential\"\n",
            "_________________________________________________________________\n",
            "Layer (type)                 Output Shape              Param #   \n",
            "=================================================================\n",
            "conv2d (Conv2D)              (None, 26, 26, 32)        320       \n",
            "_________________________________________________________________\n",
            "max_pooling2d (MaxPooling2D) (None, 13, 13, 32)        0         \n",
            "_________________________________________________________________\n",
            "flatten (Flatten)            (None, 5408)              0         \n",
            "_________________________________________________________________\n",
            "dense (Dense)                (None, 32)                173088    \n",
            "_________________________________________________________________\n",
            "dense_1 (Dense)              (None, 10)                330       \n",
            "=================================================================\n",
            "Total params: 173,738\n",
            "Trainable params: 173,738\n",
            "Non-trainable params: 0\n",
            "_________________________________________________________________\n",
            "Epoch 1/10\n",
            "1875/1875 [==============================] - 27s 15ms/step - loss: 0.4085 - accuracy: 0.8569\n",
            "Epoch 2/10\n",
            "1875/1875 [==============================] - 28s 15ms/step - loss: 0.2848 - accuracy: 0.8982\n",
            "Epoch 3/10\n",
            "1875/1875 [==============================] - 28s 15ms/step - loss: 0.2451 - accuracy: 0.9127\n",
            "Epoch 4/10\n",
            "1875/1875 [==============================] - 28s 15ms/step - loss: 0.2185 - accuracy: 0.9212\n",
            "Epoch 5/10\n",
            "1875/1875 [==============================] - 27s 15ms/step - loss: 0.1978 - accuracy: 0.9282\n",
            "Epoch 6/10\n",
            "1875/1875 [==============================] - 27s 15ms/step - loss: 0.1786 - accuracy: 0.9352\n",
            "Epoch 7/10\n",
            "1875/1875 [==============================] - 28s 15ms/step - loss: 0.1641 - accuracy: 0.9403\n",
            "Epoch 8/10\n",
            "1875/1875 [==============================] - 28s 15ms/step - loss: 0.1490 - accuracy: 0.9458\n",
            "Epoch 9/10\n",
            "1875/1875 [==============================] - 27s 14ms/step - loss: 0.1377 - accuracy: 0.9490\n",
            "Epoch 10/10\n",
            "1875/1875 [==============================] - 27s 15ms/step - loss: 0.1269 - accuracy: 0.9539\n"
          ],
          "name": "stdout"
        },
        {
          "output_type": "execute_result",
          "data": {
            "text/plain": [
              "<tensorflow.python.keras.callbacks.History at 0x7f90335c25c0>"
            ]
          },
          "metadata": {
            "tags": []
          },
          "execution_count": 3
        }
      ]
    },
    {
      "cell_type": "code",
      "metadata": {
        "colab": {
          "base_uri": "https://localhost:8080/"
        },
        "id": "MQanszTMRxrr",
        "outputId": "7fd51eaa-5eb4-4ca9-bd1b-729c3ddaf2f1"
      },
      "source": [
        "#87034 parameters with accuracy 0.9383 on training set and 0.9064 on test set\r\n",
        "\r\n",
        "\r\n",
        "model = tf.keras.Sequential()\r\n",
        "#trying to add a convolutional layer to add to the code\r\n",
        "model.add(layers.Conv2D(32,(3,3), activation = 'relu', input_shape=(28,28,1)))\r\n",
        "model.add(layers.MaxPooling2D((2,2)))\r\n",
        "model.add(layers.Flatten())\r\n",
        "model.add(layers.Dense(16, activation='relu'))\r\n",
        "model.add(layers.Dense(10))\r\n",
        "#slightly different from the tutorial!\r\n",
        "\r\n",
        "#compile the model with the adam optimizer, sparsecategoricalcrossentropy loss, and measure the accuracy metrics\r\n",
        "model.compile(optimizer='adam', loss=tf.keras.losses.SparseCategoricalCrossentropy(from_logits=True),metrics=['accuracy'])\r\n",
        "#What is the learning rate? My guess is that it uses the default learning rate , see \r\n",
        "#'Adam Configuration Parameters' here: \r\n",
        "#https://machinelearningmastery.com/adam-optimization-algorithm-for-deep-learning/\r\n",
        "\r\n",
        "model.summary()\r\n",
        "\r\n",
        "#Feed the training data into the neural network\r\n",
        "model.fit(train_images, train_labels, epochs=10)\r\n",
        "\r\n",
        "#Evaluate accuracy\r\n",
        "test_loss, test_acc = model.evaluate(test_images, test_labels, verbose=2)\r\n",
        "\r\n",
        "print('\\nTest accuracy:', test_acc)"
      ],
      "execution_count": null,
      "outputs": [
        {
          "output_type": "stream",
          "text": [
            "Model: \"sequential\"\n",
            "_________________________________________________________________\n",
            "Layer (type)                 Output Shape              Param #   \n",
            "=================================================================\n",
            "conv2d (Conv2D)              (None, 26, 26, 32)        320       \n",
            "_________________________________________________________________\n",
            "max_pooling2d (MaxPooling2D) (None, 13, 13, 32)        0         \n",
            "_________________________________________________________________\n",
            "flatten (Flatten)            (None, 5408)              0         \n",
            "_________________________________________________________________\n",
            "dense (Dense)                (None, 16)                86544     \n",
            "_________________________________________________________________\n",
            "dense_1 (Dense)              (None, 10)                170       \n",
            "=================================================================\n",
            "Total params: 87,034\n",
            "Trainable params: 87,034\n",
            "Non-trainable params: 0\n",
            "_________________________________________________________________\n",
            "Epoch 1/10\n",
            "1875/1875 [==============================] - 26s 14ms/step - loss: 0.4527 - accuracy: 0.8430\n",
            "Epoch 2/10\n",
            "1875/1875 [==============================] - 26s 14ms/step - loss: 0.3110 - accuracy: 0.8916\n",
            "Epoch 3/10\n",
            "1875/1875 [==============================] - 26s 14ms/step - loss: 0.2753 - accuracy: 0.9042\n",
            "Epoch 4/10\n",
            "1875/1875 [==============================] - 25s 14ms/step - loss: 0.2522 - accuracy: 0.9107\n",
            "Epoch 5/10\n",
            "1875/1875 [==============================] - 25s 14ms/step - loss: 0.2324 - accuracy: 0.9169\n",
            "Epoch 6/10\n",
            "1875/1875 [==============================] - 26s 14ms/step - loss: 0.2176 - accuracy: 0.9215\n",
            "Epoch 7/10\n",
            "1875/1875 [==============================] - 26s 14ms/step - loss: 0.2045 - accuracy: 0.9270\n",
            "Epoch 8/10\n",
            "1875/1875 [==============================] - 26s 14ms/step - loss: 0.1916 - accuracy: 0.9312\n",
            "Epoch 9/10\n",
            "1875/1875 [==============================] - 26s 14ms/step - loss: 0.1824 - accuracy: 0.9336\n",
            "Epoch 10/10\n",
            "1875/1875 [==============================] - 26s 14ms/step - loss: 0.1726 - accuracy: 0.9383\n",
            "313/313 - 2s - loss: 0.2891 - accuracy: 0.9065\n",
            "\n",
            "Test accuracy: 0.906499981880188\n"
          ],
          "name": "stdout"
        }
      ]
    },
    {
      "cell_type": "code",
      "metadata": {
        "colab": {
          "base_uri": "https://localhost:8080/"
        },
        "id": "AQc-N7uejxpn",
        "outputId": "eb1564c2-58cd-496c-f94f-b7a5a7f74fdc"
      },
      "source": [
        "#87034 parameters (changed to Sigmoid) with accuracy 0.8625 on training set and 0.8528 on test set\r\n",
        "\r\n",
        "model = tf.keras.Sequential()\r\n",
        "#trying to add a convolutional layer to add to the code\r\n",
        "model.add(layers.Conv2D(32,(3,3), activation = 'sigmoid', input_shape=(28,28,1)))\r\n",
        "model.add(layers.MaxPooling2D((2,2)))\r\n",
        "model.add(layers.Flatten())\r\n",
        "model.add(layers.Dense(16, activation='sigmoid'))\r\n",
        "model.add(layers.Dense(10))\r\n",
        "#slightly different from the tutorial!\r\n",
        "\r\n",
        "#compile the model with the adam optimizer, sparsecategoricalcrossentropy loss, and measure the accuracy metrics\r\n",
        "model.compile(optimizer='adam', loss=tf.keras.losses.SparseCategoricalCrossentropy(from_logits=True),metrics=['accuracy'])\r\n",
        "#What is the learning rate? My guess is that it uses the default learning rate , see \r\n",
        "#'Adam Configuration Parameters' here: \r\n",
        "#https://machinelearningmastery.com/adam-optimization-algorithm-for-deep-learning/\r\n",
        "\r\n",
        "model.summary()\r\n",
        "\r\n",
        "#Feed the training data into the neural network\r\n",
        "model.fit(train_images, train_labels, epochs=10)\r\n",
        "\r\n",
        "#Evaluate accuracy\r\n",
        "test_loss, test_acc = model.evaluate(test_images, test_labels, verbose=2)\r\n",
        "\r\n",
        "print('\\nTest accuracy:', test_acc)"
      ],
      "execution_count": null,
      "outputs": [
        {
          "output_type": "stream",
          "text": [
            "Model: \"sequential\"\n",
            "_________________________________________________________________\n",
            "Layer (type)                 Output Shape              Param #   \n",
            "=================================================================\n",
            "conv2d (Conv2D)              (None, 26, 26, 32)        320       \n",
            "_________________________________________________________________\n",
            "max_pooling2d (MaxPooling2D) (None, 13, 13, 32)        0         \n",
            "_________________________________________________________________\n",
            "flatten (Flatten)            (None, 5408)              0         \n",
            "_________________________________________________________________\n",
            "dense (Dense)                (None, 16)                86544     \n",
            "_________________________________________________________________\n",
            "dense_1 (Dense)              (None, 10)                170       \n",
            "=================================================================\n",
            "Total params: 87,034\n",
            "Trainable params: 87,034\n",
            "Non-trainable params: 0\n",
            "_________________________________________________________________\n",
            "Epoch 1/10\n",
            "1875/1875 [==============================] - 26s 14ms/step - loss: 1.5551 - accuracy: 0.5445\n",
            "Epoch 2/10\n",
            "1875/1875 [==============================] - 26s 14ms/step - loss: 0.8413 - accuracy: 0.7250\n",
            "Epoch 3/10\n",
            "1875/1875 [==============================] - 26s 14ms/step - loss: 0.6028 - accuracy: 0.8015\n",
            "Epoch 4/10\n",
            "1875/1875 [==============================] - 26s 14ms/step - loss: 0.5313 - accuracy: 0.8250\n",
            "Epoch 5/10\n",
            "1875/1875 [==============================] - 26s 14ms/step - loss: 0.4982 - accuracy: 0.8341\n",
            "Epoch 6/10\n",
            "1875/1875 [==============================] - 26s 14ms/step - loss: 0.4802 - accuracy: 0.8397\n",
            "Epoch 7/10\n",
            "1875/1875 [==============================] - 26s 14ms/step - loss: 0.4539 - accuracy: 0.8477\n",
            "Epoch 8/10\n",
            "1875/1875 [==============================] - 27s 15ms/step - loss: 0.4386 - accuracy: 0.8515\n",
            "Epoch 9/10\n",
            "1875/1875 [==============================] - 26s 14ms/step - loss: 0.4212 - accuracy: 0.8583\n",
            "Epoch 10/10\n",
            "1875/1875 [==============================] - 26s 14ms/step - loss: 0.4048 - accuracy: 0.8625\n",
            "313/313 - 2s - loss: 0.4251 - accuracy: 0.8528\n",
            "\n",
            "Test accuracy: 0.8528000116348267\n"
          ],
          "name": "stdout"
        }
      ]
    },
    {
      "cell_type": "code",
      "metadata": {
        "colab": {
          "base_uri": "https://localhost:8080/"
        },
        "id": "YHfIhwqviKhv",
        "outputId": "17c862df-4c21-4150-be48-98849592c0e9"
      },
      "source": [
        "#(No max pooling), test accuracy 0.8918\r\n",
        "\r\n",
        "\r\n",
        "model = tf.keras.Sequential()\r\n",
        "#trying to add a convolutional layer to add to the code\r\n",
        "model.add(layers.Conv2D(32,(3,3), activation = 'relu', input_shape=(28,28,1)))\r\n",
        "model.add(layers.Flatten())\r\n",
        "model.add(layers.Dense(16, activation='relu'))\r\n",
        "model.add(layers.Dense(10))\r\n",
        "#slightly different from the tutorial!\r\n",
        "\r\n",
        "#compile the model with the adam optimizer, sparsecategoricalcrossentropy loss, and measure the accuracy metrics\r\n",
        "model.compile(optimizer='adam', loss=tf.keras.losses.SparseCategoricalCrossentropy(from_logits=True),metrics=['accuracy'])\r\n",
        "#What is the learning rate? My guess is that it uses the default learning rate , see \r\n",
        "#'Adam Configuration Parameters' here: \r\n",
        "#https://machinelearningmastery.com/adam-optimization-algorithm-for-deep-learning/\r\n",
        "\r\n",
        "model.summary()\r\n",
        "\r\n",
        "#Feed the training data into the neural network\r\n",
        "model.fit(train_images, train_labels, epochs=10)\r\n",
        "\r\n",
        "#Evaluate accuracy\r\n",
        "test_loss, test_acc = model.evaluate(test_images, test_labels, verbose=2)\r\n",
        "\r\n",
        "print('\\nTest accuracy:', test_acc)"
      ],
      "execution_count": null,
      "outputs": [
        {
          "output_type": "stream",
          "text": [
            "Model: \"sequential\"\n",
            "_________________________________________________________________\n",
            "Layer (type)                 Output Shape              Param #   \n",
            "=================================================================\n",
            "conv2d (Conv2D)              (None, 26, 26, 32)        320       \n",
            "_________________________________________________________________\n",
            "flatten (Flatten)            (None, 21632)             0         \n",
            "_________________________________________________________________\n",
            "dense (Dense)                (None, 16)                346128    \n",
            "_________________________________________________________________\n",
            "dense_1 (Dense)              (None, 10)                170       \n",
            "=================================================================\n",
            "Total params: 346,618\n",
            "Trainable params: 346,618\n",
            "Non-trainable params: 0\n",
            "_________________________________________________________________\n",
            "Epoch 1/10\n",
            "1875/1875 [==============================] - 25s 14ms/step - loss: 0.5891 - accuracy: 0.7943\n",
            "Epoch 2/10\n",
            "1875/1875 [==============================] - 25s 13ms/step - loss: 0.3593 - accuracy: 0.8747\n",
            "Epoch 3/10\n",
            "1875/1875 [==============================] - 25s 13ms/step - loss: 0.3059 - accuracy: 0.8923\n",
            "Epoch 4/10\n",
            "1875/1875 [==============================] - 25s 14ms/step - loss: 0.2742 - accuracy: 0.9041\n",
            "Epoch 5/10\n",
            "1875/1875 [==============================] - 26s 14ms/step - loss: 0.2491 - accuracy: 0.9126\n",
            "Epoch 6/10\n",
            "1875/1875 [==============================] - 26s 14ms/step - loss: 0.2282 - accuracy: 0.9191\n",
            "Epoch 7/10\n",
            "1875/1875 [==============================] - 26s 14ms/step - loss: 0.2109 - accuracy: 0.9247\n",
            "Epoch 8/10\n",
            "1875/1875 [==============================] - 26s 14ms/step - loss: 0.1949 - accuracy: 0.9305\n",
            "Epoch 9/10\n",
            "1875/1875 [==============================] - 26s 14ms/step - loss: 0.1787 - accuracy: 0.9362\n",
            "Epoch 10/10\n",
            "1875/1875 [==============================] - 25s 14ms/step - loss: 0.1662 - accuracy: 0.9411\n",
            "313/313 - 1s - loss: 0.3601 - accuracy: 0.8918\n",
            "\n",
            "Test accuracy: 0.8917999863624573\n"
          ],
          "name": "stdout"
        }
      ]
    },
    {
      "cell_type": "code",
      "metadata": {
        "colab": {
          "base_uri": "https://localhost:8080/"
        },
        "id": "5upaIJu_k4RX",
        "outputId": "179dc0ff-c2a8-46ed-ae43-ccbeec0c94c8"
      },
      "source": [
        "#2 convolutional layers\r\n",
        "#test accuracy: 0.9071, parameters 44602\r\n",
        "\r\n",
        "model = tf.keras.Sequential()\r\n",
        "#trying to add a convolutional layer to add to the code\r\n",
        "model.add(layers.Conv2D(32,(3,3), activation = 'relu', input_shape=(28,28,1)))\r\n",
        "model.add(layers.MaxPooling2D((2,2)))\r\n",
        "model.add(layers.Conv2D(64,(3,3), activation = 'relu', input_shape=(28,28,1)))\r\n",
        "model.add(layers.MaxPooling2D((2,2)))\r\n",
        "model.add(layers.Flatten())\r\n",
        "model.add(layers.Dense(16, activation='relu'))\r\n",
        "model.add(layers.Dense(10))\r\n",
        "#slightly different from the tutorial!\r\n",
        "\r\n",
        "#compile the model with the adam optimizer, sparsecategoricalcrossentropy loss, and measure the accuracy metrics\r\n",
        "model.compile(optimizer='adam', loss=tf.keras.losses.SparseCategoricalCrossentropy(from_logits=True),metrics=['accuracy'])\r\n",
        "#What is the learning rate? My guess is that it uses the default learning rate , see \r\n",
        "#'Adam Configuration Parameters' here: \r\n",
        "#https://machinelearningmastery.com/adam-optimization-algorithm-for-deep-learning/\r\n",
        "\r\n",
        "model.summary()\r\n",
        "\r\n",
        "#Feed the training data into the neural network\r\n",
        "model.fit(train_images, train_labels, epochs=10)\r\n",
        "\r\n",
        "#Evaluate accuracy\r\n",
        "test_loss, test_acc = model.evaluate(test_images, test_labels, verbose=2)\r\n",
        "\r\n",
        "print('\\nTest accuracy:', test_acc)"
      ],
      "execution_count": null,
      "outputs": [
        {
          "output_type": "stream",
          "text": [
            "Model: \"sequential\"\n",
            "_________________________________________________________________\n",
            "Layer (type)                 Output Shape              Param #   \n",
            "=================================================================\n",
            "conv2d (Conv2D)              (None, 26, 26, 32)        320       \n",
            "_________________________________________________________________\n",
            "max_pooling2d (MaxPooling2D) (None, 13, 13, 32)        0         \n",
            "_________________________________________________________________\n",
            "conv2d_1 (Conv2D)            (None, 11, 11, 64)        18496     \n",
            "_________________________________________________________________\n",
            "max_pooling2d_1 (MaxPooling2 (None, 5, 5, 64)          0         \n",
            "_________________________________________________________________\n",
            "flatten (Flatten)            (None, 1600)              0         \n",
            "_________________________________________________________________\n",
            "dense (Dense)                (None, 16)                25616     \n",
            "_________________________________________________________________\n",
            "dense_1 (Dense)              (None, 10)                170       \n",
            "=================================================================\n",
            "Total params: 44,602\n",
            "Trainable params: 44,602\n",
            "Non-trainable params: 0\n",
            "_________________________________________________________________\n",
            "Epoch 1/10\n",
            "1875/1875 [==============================] - 51s 27ms/step - loss: 0.5042 - accuracy: 0.8224\n",
            "Epoch 2/10\n",
            "1875/1875 [==============================] - 50s 27ms/step - loss: 0.3337 - accuracy: 0.8817\n",
            "Epoch 3/10\n",
            "1875/1875 [==============================] - 50s 26ms/step - loss: 0.2849 - accuracy: 0.8983\n",
            "Epoch 4/10\n",
            "1875/1875 [==============================] - 49s 26ms/step - loss: 0.2559 - accuracy: 0.9069\n",
            "Epoch 5/10\n",
            "1875/1875 [==============================] - 50s 26ms/step - loss: 0.2312 - accuracy: 0.9165\n",
            "Epoch 6/10\n",
            "1875/1875 [==============================] - 49s 26ms/step - loss: 0.2131 - accuracy: 0.9223\n",
            "Epoch 7/10\n",
            "1875/1875 [==============================] - 50s 27ms/step - loss: 0.1980 - accuracy: 0.9268\n",
            "Epoch 8/10\n",
            "1875/1875 [==============================] - 49s 26ms/step - loss: 0.1838 - accuracy: 0.9324\n",
            "Epoch 9/10\n",
            "1875/1875 [==============================] - 50s 27ms/step - loss: 0.1707 - accuracy: 0.9373\n",
            "Epoch 10/10\n",
            "1875/1875 [==============================] - 49s 26ms/step - loss: 0.1596 - accuracy: 0.9416\n",
            "313/313 - 3s - loss: 0.2780 - accuracy: 0.9071\n",
            "\n",
            "Test accuracy: 0.9071000218391418\n"
          ],
          "name": "stdout"
        }
      ]
    }
  ]
}