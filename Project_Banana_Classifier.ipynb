{
  "nbformat": 4,
  "nbformat_minor": 0,
  "metadata": {
    "colab": {
      "name": "Project Banana Classifier.ipynb",
      "provenance": [],
      "mount_file_id": "15Nig9q8bzHd0lCsaGsfbLlAd_yDRZ7PK",
      "authorship_tag": "ABX9TyM3c/xNwDaB7nvFEPUcrd4B",
      "include_colab_link": true
    },
    "kernelspec": {
      "name": "python3",
      "display_name": "Python 3"
    },
    "accelerator": "GPU"
  },
  "cells": [
    {
      "cell_type": "markdown",
      "metadata": {
        "id": "view-in-github",
        "colab_type": "text"
      },
      "source": [
        "<a href=\"https://colab.research.google.com/github/jonxu88/CodeFromColab/blob/main/Project_Banana_Classifier.ipynb\" target=\"_parent\"><img src=\"https://colab.research.google.com/assets/colab-badge.svg\" alt=\"Open In Colab\"/></a>"
      ]
    },
    {
      "cell_type": "code",
      "metadata": {
        "colab": {
          "base_uri": "https://localhost:8080/"
        },
        "id": "wRpSlMjbwGiv",
        "outputId": "97b08b35-3825-4cc6-daa2-78c124d246cc"
      },
      "source": [
        "#This is code following a code along run by Jackie Tan,\r\n",
        "#from UpLevel's Data Science Code-Along. \r\n",
        "#See https://www.eventbrite.com.au/x/pythondl-code-along-is-my-banana-ripe-yet-tickets-138204999875\r\n",
        "\r\n",
        "#Given a picture of a banana, classify it as green, overripe, or ripe.\r\n",
        "\r\n",
        "#can get val_accuracy = 0.95 with MobileNetV2\r\n",
        "#can get val_accuracy = 0.88 with ResNet50\r\n",
        "#VGG16 seems to be a lot worse!!! val_accuracy = 0.36 Why???\r\n",
        "\r\n",
        "!pip install split-folders"
      ],
      "execution_count": 1,
      "outputs": [
        {
          "output_type": "stream",
          "text": [
            "Collecting split-folders\n",
            "  Downloading https://files.pythonhosted.org/packages/b8/5f/3c2b2f7ea5e047c8cdc3bb00ae582c5438fcdbbedcc23b3cc1c2c7aae642/split_folders-0.4.3-py3-none-any.whl\n",
            "Installing collected packages: split-folders\n",
            "Successfully installed split-folders-0.4.3\n"
          ],
          "name": "stdout"
        }
      ]
    },
    {
      "cell_type": "code",
      "metadata": {
        "id": "Y3iouMKTwYnY"
      },
      "source": [
        "import splitfolders"
      ],
      "execution_count": 3,
      "outputs": []
    },
    {
      "cell_type": "code",
      "metadata": {
        "colab": {
          "base_uri": "https://localhost:8080/"
        },
        "id": "yubR0NCEw4KR",
        "outputId": "9fd527b0-c786-4e9b-9ae0-5b64a098a5ec"
      },
      "source": [
        "#split folders into training and validation sets\r\n",
        "splitfolders.ratio(input=\"/content/drive/MyDrive/Project Banana Classifier/banana_data\",\r\n",
        "                   output=\"/content/drive/MyDrive/Project Banana Classifier/output\",\r\n",
        "                   seed=2021,\r\n",
        "                   ratio=(0.7, 0.15, 0.15)) #0.7 for train, 0.15 for validation, 0.15 for test\r\n"
      ],
      "execution_count": 4,
      "outputs": [
        {
          "output_type": "stream",
          "text": [
            "Copying files: 450 files [05:46,  1.30 files/s]\n"
          ],
          "name": "stderr"
        }
      ]
    },
    {
      "cell_type": "code",
      "metadata": {
        "id": "VaQ6GSe4yMLU"
      },
      "source": [
        "import keras\r\n",
        "from keras.layers import Dense, GlobalAveragePooling2D, Dropout\r\n",
        "from keras.applications import MobileNetV2, ResNet50, VGG16\r\n",
        "from keras.preprocessing.image import ImageDataGenerator\r\n",
        "from keras.models import Model #wraps pretrained model and our own stuff later on\r\n",
        "from keras.optimizers import Adam\r\n",
        "\r\n"
      ],
      "execution_count": 7,
      "outputs": []
    },
    {
      "cell_type": "code",
      "metadata": {
        "colab": {
          "base_uri": "https://localhost:8080/"
        },
        "id": "eXt44i_b00Qb",
        "outputId": "0cbba35b-5105-48b8-88ed-876464377185"
      },
      "source": [
        "#Can change to MobileNetV2, VGG16, ResNet50 to see what happens\r\n",
        "base_model = ResNet50(weights='imagenet', include_top=False) #import the model + remove the last layers\r\n",
        "\r\n",
        "#get the base model's layers\r\n",
        "x = base_model.output\r\n",
        "\r\n",
        "# add on our own layers\r\n",
        "x = GlobalAveragePooling2D()(x)\r\n",
        "x = Dense(512, activation='relu')(x)\r\n",
        "x = Dropout(0.5)(x) #Introduce a dropout layer to prevent overfitting, kill half the neurons\r\n",
        "x = Dense(512, activation='relu')(x)\r\n",
        "x = Dropout(0.5)(x)\r\n",
        "\r\n",
        "preds = Dense(3, activation='softmax')(x) \r\n",
        "#we have 3 classes: green, ripe, overripe \r\n"
      ],
      "execution_count": 40,
      "outputs": [
        {
          "output_type": "stream",
          "text": [
            "Downloading data from https://storage.googleapis.com/tensorflow/keras-applications/resnet/resnet50_weights_tf_dim_ordering_tf_kernels_notop.h5\n",
            "94773248/94765736 [==============================] - 3s 0us/step\n"
          ],
          "name": "stdout"
        }
      ]
    },
    {
      "cell_type": "code",
      "metadata": {
        "id": "pYjMS29G2joU"
      },
      "source": [
        "batch_size = 8 #8 images at a time\r\n",
        "\r\n",
        "\r\n",
        "\r\n"
      ],
      "execution_count": 10,
      "outputs": []
    },
    {
      "cell_type": "code",
      "metadata": {
        "id": "DroiKJXK2s8d"
      },
      "source": [
        "#Rescale to something between 0 and 1 --- DOES THIS COMMAND PRODUCE 2^3 AS MUCH TRAINING DATA?\r\n",
        "train_datagen = ImageDataGenerator(rescale=1./255, shear_range=0.2, zoom_range=0.2, horizontal_flip=True\r\n",
        "                                   )\r\n",
        "\r\n",
        "test_datagen = ImageDataGenerator(rescale=1./255)\r\n"
      ],
      "execution_count": 11,
      "outputs": []
    },
    {
      "cell_type": "code",
      "metadata": {
        "colab": {
          "base_uri": "https://localhost:8080/"
        },
        "id": "DrXioUva36GO",
        "outputId": "6b27509b-bae9-4e48-f9ca-12d2a7ffeeff"
      },
      "source": [
        "train_generator = train_datagen.flow_from_directory(\"/content/drive/MyDrive/Project Banana Classifier/output/train\",\r\n",
        "                                                    target_size=(224,224),\r\n",
        "                                                    color_mode='rgb',\r\n",
        "                                                    batch_size=batch_size,\r\n",
        "                                                    class_mode='categorical',\r\n",
        "                                                    shuffle=True)"
      ],
      "execution_count": 12,
      "outputs": [
        {
          "output_type": "stream",
          "text": [
            "Found 315 images belonging to 3 classes.\n"
          ],
          "name": "stdout"
        }
      ]
    },
    {
      "cell_type": "code",
      "metadata": {
        "colab": {
          "base_uri": "https://localhost:8080/"
        },
        "id": "WBqkVeLI4jrr",
        "outputId": "fa29f674-ae8b-4767-c267-f5f532e6d8db"
      },
      "source": [
        "val_generator = train_datagen.flow_from_directory(\"/content/drive/MyDrive/Project Banana Classifier/output/val\",\r\n",
        "                                                    target_size=(224,224),\r\n",
        "                                                    color_mode='rgb',\r\n",
        "                                                    batch_size=batch_size,\r\n",
        "                                                    class_mode='categorical',\r\n",
        "                                                    shuffle=True)"
      ],
      "execution_count": 13,
      "outputs": [
        {
          "output_type": "stream",
          "text": [
            "Found 66 images belonging to 3 classes.\n"
          ],
          "name": "stdout"
        }
      ]
    },
    {
      "cell_type": "code",
      "metadata": {
        "colab": {
          "base_uri": "https://localhost:8080/"
        },
        "id": "R65BA_Rz5HxJ",
        "outputId": "3afb2d0a-50ee-483e-d1db-fae5748f49b7"
      },
      "source": [
        "#No augmentation done on test data!\r\n",
        "test_generator = test_datagen.flow_from_directory(\"/content/drive/MyDrive/Project Banana Classifier/output/test\",\r\n",
        "                                                  shuffle=False)"
      ],
      "execution_count": 14,
      "outputs": [
        {
          "output_type": "stream",
          "text": [
            "Found 68 images belonging to 3 classes.\n"
          ],
          "name": "stdout"
        }
      ]
    },
    {
      "cell_type": "code",
      "metadata": {
        "id": "t_4POdVk5jk-"
      },
      "source": [
        "model = Model(inputs=base_model.input, outputs=preds)"
      ],
      "execution_count": 43,
      "outputs": []
    },
    {
      "cell_type": "code",
      "metadata": {
        "id": "7gBb2AbU6SLc"
      },
      "source": [
        "model.compile(optimizer=Adam(lr=0.0001), \r\n",
        "              loss='categorical_crossentropy', \r\n",
        "              metrics=['accuracy'])"
      ],
      "execution_count": 44,
      "outputs": []
    },
    {
      "cell_type": "code",
      "metadata": {
        "colab": {
          "base_uri": "https://localhost:8080/"
        },
        "id": "W6laBv736mS8",
        "outputId": "dd7a0837-6392-489b-c35d-6c0a8efffb76"
      },
      "source": [
        "history = model.fit(train_generator, steps_per_epoch = train_generator.samples // batch_size,\r\n",
        "                    validation_data = val_generator,\r\n",
        "                    validation_steps = val_generator.samples // batch_size,\r\n",
        "                    epochs=20)"
      ],
      "execution_count": 45,
      "outputs": [
        {
          "output_type": "stream",
          "text": [
            "Epoch 1/20\n",
            "39/39 [==============================] - 17s 309ms/step - loss: 1.1808 - accuracy: 0.4683 - val_loss: 1.1855 - val_accuracy: 0.3281\n",
            "Epoch 2/20\n",
            "39/39 [==============================] - 11s 272ms/step - loss: 0.3071 - accuracy: 0.8947 - val_loss: 1.2122 - val_accuracy: 0.3281\n",
            "Epoch 3/20\n",
            "39/39 [==============================] - 11s 274ms/step - loss: 0.1973 - accuracy: 0.9064 - val_loss: 1.4300 - val_accuracy: 0.3281\n",
            "Epoch 4/20\n",
            "39/39 [==============================] - 11s 275ms/step - loss: 0.3338 - accuracy: 0.9239 - val_loss: 1.2453 - val_accuracy: 0.4844\n",
            "Epoch 5/20\n",
            "39/39 [==============================] - 11s 272ms/step - loss: 0.1636 - accuracy: 0.9355 - val_loss: 1.4532 - val_accuracy: 0.3281\n",
            "Epoch 6/20\n",
            "39/39 [==============================] - 11s 276ms/step - loss: 0.2188 - accuracy: 0.9534 - val_loss: 1.6018 - val_accuracy: 0.3438\n",
            "Epoch 7/20\n",
            "39/39 [==============================] - 11s 278ms/step - loss: 0.1914 - accuracy: 0.9307 - val_loss: 1.2026 - val_accuracy: 0.3594\n",
            "Epoch 8/20\n",
            "39/39 [==============================] - 11s 274ms/step - loss: 0.1203 - accuracy: 0.9596 - val_loss: 1.7925 - val_accuracy: 0.3438\n",
            "Epoch 9/20\n",
            "39/39 [==============================] - 11s 274ms/step - loss: 0.0516 - accuracy: 0.9826 - val_loss: 1.2492 - val_accuracy: 0.3906\n",
            "Epoch 10/20\n",
            "39/39 [==============================] - 11s 280ms/step - loss: 0.0812 - accuracy: 0.9620 - val_loss: 1.1086 - val_accuracy: 0.5156\n",
            "Epoch 11/20\n",
            "39/39 [==============================] - 11s 275ms/step - loss: 0.0775 - accuracy: 0.9848 - val_loss: 1.0026 - val_accuracy: 0.5000\n",
            "Epoch 12/20\n",
            "39/39 [==============================] - 11s 277ms/step - loss: 0.1285 - accuracy: 0.9745 - val_loss: 0.9213 - val_accuracy: 0.4844\n",
            "Epoch 13/20\n",
            "39/39 [==============================] - 11s 273ms/step - loss: 0.2081 - accuracy: 0.9587 - val_loss: 1.0836 - val_accuracy: 0.3906\n",
            "Epoch 14/20\n",
            "39/39 [==============================] - 11s 275ms/step - loss: 0.0635 - accuracy: 0.9767 - val_loss: 0.7692 - val_accuracy: 0.7188\n",
            "Epoch 15/20\n",
            "39/39 [==============================] - 11s 277ms/step - loss: 0.0567 - accuracy: 0.9716 - val_loss: 0.7811 - val_accuracy: 0.6875\n",
            "Epoch 16/20\n",
            "39/39 [==============================] - 11s 276ms/step - loss: 0.0964 - accuracy: 0.9759 - val_loss: 0.9562 - val_accuracy: 0.6250\n",
            "Epoch 17/20\n",
            "39/39 [==============================] - 11s 272ms/step - loss: 0.1386 - accuracy: 0.9682 - val_loss: 0.8820 - val_accuracy: 0.6875\n",
            "Epoch 18/20\n",
            "39/39 [==============================] - 11s 276ms/step - loss: 0.0639 - accuracy: 0.9888 - val_loss: 0.8480 - val_accuracy: 0.7344\n",
            "Epoch 19/20\n",
            "39/39 [==============================] - 11s 272ms/step - loss: 0.0958 - accuracy: 0.9755 - val_loss: 0.4747 - val_accuracy: 0.8281\n",
            "Epoch 20/20\n",
            "39/39 [==============================] - 11s 273ms/step - loss: 0.0650 - accuracy: 0.9741 - val_loss: 0.3713 - val_accuracy: 0.8906\n"
          ],
          "name": "stdout"
        }
      ]
    },
    {
      "cell_type": "code",
      "metadata": {
        "colab": {
          "base_uri": "https://localhost:8080/",
          "height": 283
        },
        "id": "BJslWiM0-Zb2",
        "outputId": "722c6bb1-2c2a-4156-d95c-c01c2d93886d"
      },
      "source": [
        "import matplotlib.pyplot as plt\r\n",
        "\r\n",
        "plt.plot(history.history['loss'])\r\n",
        "plt.plot(history.history['val_loss'])"
      ],
      "execution_count": 23,
      "outputs": [
        {
          "output_type": "execute_result",
          "data": {
            "text/plain": [
              "[<matplotlib.lines.Line2D at 0x7ff410988a20>]"
            ]
          },
          "metadata": {
            "tags": []
          },
          "execution_count": 23
        },
        {
          "output_type": "display_data",
          "data": {
            "image/png": "[encoded data removed]",
            "text/plain": [
              "<Figure size 432x288 with 1 Axes>"
            ]
          },
          "metadata": {
            "tags": [],
            "needs_background": "light"
          }
        }
      ]
    },
    {
      "cell_type": "code",
      "metadata": {
        "colab": {
          "base_uri": "https://localhost:8080/"
        },
        "id": "yAgQTAF38hgW",
        "outputId": "eeaedab4-b439-483f-f4b7-9501535f46bd"
      },
      "source": [
        "test_generator.classes # alphabetical order: 'green', 'overripe', 'ripe'"
      ],
      "execution_count": 28,
      "outputs": [
        {
          "output_type": "execute_result",
          "data": {
            "text/plain": [
              "array([0, 0, 0, 0, 0, 0, 0, 0, 0, 0, 0, 0, 0, 0, 0, 0, 0, 0, 0, 0, 0, 0,\n",
              "       1, 1, 1, 1, 1, 1, 1, 1, 1, 1, 1, 1, 1, 1, 1, 1, 1, 1, 1, 1, 1, 1,\n",
              "       1, 2, 2, 2, 2, 2, 2, 2, 2, 2, 2, 2, 2, 2, 2, 2, 2, 2, 2, 2, 2, 2,\n",
              "       2, 2], dtype=int32)"
            ]
          },
          "metadata": {
            "tags": []
          },
          "execution_count": 28
        }
      ]
    },
    {
      "cell_type": "code",
      "metadata": {
        "id": "gLttGjWC8x91"
      },
      "source": [
        "from sklearn.metrics import confusion_matrix #assess model performance"
      ],
      "execution_count": 19,
      "outputs": []
    },
    {
      "cell_type": "code",
      "metadata": {
        "colab": {
          "base_uri": "https://localhost:8080/"
        },
        "id": "y4KL6NXn829k",
        "outputId": "22f254d4-dffa-4600-e7fa-c2d5a570d237"
      },
      "source": [
        "predictions = model.predict(test_generator)\r\n",
        "predictions #shows that, for example, the first image has 99% chance of green, second has 99%, third has 59% etc."
      ],
      "execution_count": 31,
      "outputs": [
        {
          "output_type": "execute_result",
          "data": {
            "text/plain": [
              "array([[9.99997497e-01, 6.21264917e-07, 1.90330343e-06],\n",
              "       [9.99969125e-01, 2.76987066e-07, 3.06784568e-05],\n",
              "       [9.63746905e-01, 1.21231023e-02, 2.41300836e-02],\n",
              "       [8.65909040e-01, 1.30956441e-01, 3.13451770e-03],\n",
              "       [9.97333288e-01, 9.23642481e-04, 1.74301572e-03],\n",
              "       [9.99978900e-01, 1.23903897e-06, 1.98546895e-05],\n",
              "       [9.99642015e-01, 1.23508187e-04, 2.34533858e-04],\n",
              "       [9.89845753e-01, 7.98544716e-05, 1.00743314e-02],\n",
              "       [9.99962449e-01, 1.26408096e-07, 3.74227784e-05],\n",
              "       [9.99996185e-01, 7.85788057e-09, 3.83658016e-06],\n",
              "       [9.99985576e-01, 3.74684905e-09, 1.44172891e-05],\n",
              "       [9.99998569e-01, 9.21275429e-08, 1.31611750e-06],\n",
              "       [9.99948740e-01, 3.89298657e-06, 4.72809661e-05],\n",
              "       [9.79870200e-01, 1.66360103e-02, 3.49375117e-03],\n",
              "       [9.87477303e-01, 8.59158393e-03, 3.93116241e-03],\n",
              "       [9.99989390e-01, 2.70988807e-07, 1.03834227e-05],\n",
              "       [9.93144274e-01, 2.17527663e-03, 4.68037231e-03],\n",
              "       [9.99888539e-01, 1.09423810e-04, 2.01722537e-06],\n",
              "       [9.99994516e-01, 5.24594725e-07, 5.04670379e-06],\n",
              "       [8.31515551e-01, 2.44941283e-03, 1.66035056e-01],\n",
              "       [9.91334975e-01, 6.07215520e-03, 2.59285863e-03],\n",
              "       [9.98513997e-01, 9.51755559e-04, 5.34268445e-04],\n",
              "       [3.45487897e-05, 9.99618649e-01, 3.46793997e-04],\n",
              "       [1.59162126e-04, 9.99283254e-01, 5.57634456e-04],\n",
              "       [8.48668208e-07, 9.99967098e-01, 3.20373074e-05],\n",
              "       [4.15803552e-05, 9.99775231e-01, 1.83224372e-04],\n",
              "       [6.24143227e-04, 9.66624260e-01, 3.27516831e-02],\n",
              "       [1.95551183e-04, 9.98554051e-01, 1.25032454e-03],\n",
              "       [4.63476963e-03, 9.87304509e-01, 8.06080364e-03],\n",
              "       [5.18619530e-02, 3.16990614e-02, 9.16438997e-01],\n",
              "       [1.74447458e-04, 9.99726117e-01, 9.94528164e-05],\n",
              "       [6.31938979e-04, 9.91954625e-01, 7.41347857e-03],\n",
              "       [1.66577418e-04, 9.90147769e-01, 9.68565047e-03],\n",
              "       [2.75257426e-05, 9.99962091e-01, 1.03327802e-05],\n",
              "       [2.02691555e-02, 9.56867099e-01, 2.28637941e-02],\n",
              "       [3.25361907e-04, 9.97672498e-01, 2.00206297e-03],\n",
              "       [3.62626888e-05, 9.99931931e-01, 3.18375678e-05],\n",
              "       [6.53207360e-04, 9.68012452e-01, 3.13342661e-02],\n",
              "       [1.64197430e-01, 6.64976358e-01, 1.70826226e-01],\n",
              "       [7.18745741e-06, 9.99875903e-01, 1.16988886e-04],\n",
              "       [7.85284897e-07, 9.99974489e-01, 2.46546988e-05],\n",
              "       [4.13885266e-01, 1.08391009e-01, 4.77723688e-01],\n",
              "       [6.57697842e-02, 4.33683813e-01, 5.00546455e-01],\n",
              "       [2.42146052e-06, 9.99982119e-01, 1.54434438e-05],\n",
              "       [1.04451838e-05, 9.99966979e-01, 2.25198291e-05],\n",
              "       [5.39762143e-04, 1.21290388e-04, 9.99338925e-01],\n",
              "       [2.28327874e-04, 7.14837734e-05, 9.99700189e-01],\n",
              "       [2.83562951e-03, 2.03148201e-02, 9.76849616e-01],\n",
              "       [2.53292501e-06, 9.50946344e-07, 9.99996543e-01],\n",
              "       [1.25311900e-07, 4.22551905e-09, 9.99999881e-01],\n",
              "       [8.70564301e-03, 4.70309943e-01, 5.20984411e-01],\n",
              "       [4.05605242e-04, 1.19060639e-03, 9.98403847e-01],\n",
              "       [3.12808275e-01, 2.43318900e-02, 6.62859857e-01],\n",
              "       [1.72985569e-01, 2.07843375e-03, 8.24936032e-01],\n",
              "       [4.89265801e-08, 4.04122886e-08, 9.99999881e-01],\n",
              "       [1.08013801e-05, 5.66122878e-07, 9.99988675e-01],\n",
              "       [1.02726289e-03, 3.49242217e-03, 9.95480299e-01],\n",
              "       [5.94202243e-03, 3.68452602e-04, 9.93689537e-01],\n",
              "       [3.16451008e-08, 1.76133108e-09, 1.00000000e+00],\n",
              "       [4.68957284e-03, 7.79861450e-01, 2.15448871e-01],\n",
              "       [2.29747640e-03, 8.19202885e-03, 9.89510536e-01],\n",
              "       [6.96415583e-08, 4.65373073e-09, 9.99999881e-01],\n",
              "       [1.84488046e-04, 1.83869670e-05, 9.99797165e-01],\n",
              "       [2.04441985e-05, 1.56316109e-05, 9.99963880e-01],\n",
              "       [1.83619522e-02, 5.08752346e-05, 9.81587231e-01],\n",
              "       [5.74104637e-02, 3.48717272e-02, 9.07717824e-01],\n",
              "       [5.95451093e-06, 1.20117056e-05, 9.99981999e-01],\n",
              "       [6.48550940e-06, 3.27251058e-07, 9.99993205e-01]], dtype=float32)"
            ]
          },
          "metadata": {
            "tags": []
          },
          "execution_count": 31
        }
      ]
    },
    {
      "cell_type": "code",
      "metadata": {
        "colab": {
          "base_uri": "https://localhost:8080/"
        },
        "id": "ohq6Q2AC9Hp3",
        "outputId": "2612d67a-4256-458d-e4d9-2f644f812952"
      },
      "source": [
        "import numpy as np\r\n",
        "single_pred = np.argmax(predictions, axis = 1) #takes the predictions above and tells us which is maximum\r\n",
        "single_pred "
      ],
      "execution_count": 32,
      "outputs": [
        {
          "output_type": "execute_result",
          "data": {
            "text/plain": [
              "array([0, 0, 0, 0, 0, 0, 0, 0, 0, 0, 0, 0, 0, 0, 0, 0, 0, 0, 0, 0, 0, 0,\n",
              "       1, 1, 1, 1, 1, 1, 1, 2, 1, 1, 1, 1, 1, 1, 1, 1, 1, 1, 1, 2, 2, 1,\n",
              "       1, 2, 2, 2, 2, 2, 2, 2, 2, 2, 2, 2, 2, 2, 2, 1, 2, 2, 2, 2, 2, 2,\n",
              "       2, 2])"
            ]
          },
          "metadata": {
            "tags": []
          },
          "execution_count": 32
        }
      ]
    },
    {
      "cell_type": "code",
      "metadata": {
        "colab": {
          "base_uri": "https://localhost:8080/"
        },
        "id": "idq2la2F9ku1",
        "outputId": "f556feda-922e-45dc-d9f0-5b6469246802"
      },
      "source": [
        "confusion_matrix(test_generator.classes, single_pred) #If our model is perfect, we would have a diagonal matrix\r\n",
        "#So our model predicts green very well, but not the overripe\r\n",
        "#                           Predicted\r\n",
        "#                     green overripe ripe\r\n",
        "#           green\r\n",
        "#Actual     overripe\r\n",
        "#           ripe"
      ],
      "execution_count": 33,
      "outputs": [
        {
          "output_type": "execute_result",
          "data": {
            "text/plain": [
              "array([[22,  0,  0],\n",
              "       [ 0, 20,  3],\n",
              "       [ 0,  1, 22]])"
            ]
          },
          "metadata": {
            "tags": []
          },
          "execution_count": 33
        }
      ]
    }
  ]
}