{
  "nbformat": 4,
  "nbformat_minor": 0,
  "metadata": {
    "colab": {
      "name": "BasicConvnetOnMNIST.ipynb",
      "provenance": [],
      "authorship_tag": "ABX9TyPE1MP//1gyIlGnfVTJsbgf",
      "include_colab_link": true
    },
    "kernelspec": {
      "name": "python3",
      "display_name": "Python 3"
    },
    "accelerator": "GPU"
  },
  "cells": [
    {
      "cell_type": "markdown",
      "metadata": {
        "id": "view-in-github",
        "colab_type": "text"
      },
      "source": [
        "<a href=\"https://colab.research.google.com/github/jonxu88/CodeFromColab/blob/main/BasicConvnetOnMNIST.ipynb\" target=\"_parent\"><img src=\"https://colab.research.google.com/assets/colab-badge.svg\" alt=\"Open In Colab\"/></a>"
      ]
    },
    {
      "cell_type": "code",
      "metadata": {
        "colab": {
          "base_uri": "https://localhost:8080/"
        },
        "id": "e3_yQolrsn83",
        "outputId": "34da46be-2882-4b58-f127-662363d042eb"
      },
      "source": [
        "#Following sentdex https://www.youtube.com/watch?v=BSpXCRTOLJA\r\n",
        "#validation accuracy = 0.98\r\n",
        "import tensorflow as tf\r\n",
        "from tensorflow.keras import layers\r\n",
        "from tensorflow.keras.models import Sequential\r\n",
        "from tensorflow.keras.layers import Dense, Dropout, Conv2D #There is a GPU optimised version called CUDNN??\r\n",
        "\r\n",
        "mnist = tf.keras.datasets.mnist\r\n",
        "\r\n",
        "(x_train, y_train), (x_test, y_test) = mnist.load_data()\r\n",
        "\r\n",
        "#BELOW IS IMPORTANT, OTHERWISE ACCURACY IS LOW\r\n",
        "x_train = x_train.reshape(x_train.shape[0], 28, 28, 1).astype('float32')\r\n",
        "x_test = x_test.reshape(x_test.shape[0], 28, 28, 1).astype('float32')\r\n",
        "\r\n",
        "x_train = (x_train - 127.5) / 127.5\r\n",
        "x_test = (x_test - 127.5) / 127.5\r\n",
        "\r\n",
        "print(x_train.shape)\r\n",
        "print(x_train[0].shape)\r\n",
        "\r\n",
        "model = Sequential()\r\n",
        "\r\n",
        "model.add(Conv2D(128, (3,3), input_shape=(28,28,1),activation='relu'))\r\n",
        "model.add(layers.BatchNormalization())\r\n",
        "\r\n",
        "model.add(Conv2D(128, (3,3), activation='relu'))\r\n",
        "model.add(Dropout(0.2))\r\n",
        "model.add(layers.BatchNormalization())\r\n",
        "model.add(layers.MaxPooling2D(pool_size=2, strides=2, padding='same'))\r\n",
        "\r\n",
        "model.add(layers.Flatten())\r\n",
        "model.add(Dense(32, activation='relu'))\r\n",
        "model.add(Dropout(0.2))\r\n",
        "\r\n",
        "model.add(Dense(10, activation='softmax'))\r\n",
        "\r\n",
        "opt = tf.keras.optimizers.Adam(lr=1e-3, decay=1e-5)\r\n",
        "\r\n",
        "model.compile(loss='sparse_categorical_crossentropy',\r\n",
        "              optimizer=opt, metrics=['accuracy'])\r\n",
        "\r\n",
        "model.summary()\r\n",
        "\r\n",
        "model.fit(x_train, y_train, epochs=15, validation_data=(x_test, y_test))\r\n",
        "\r\n"
      ],
      "execution_count": 1,
      "outputs": [
        {
          "output_type": "stream",
          "text": [
            "(60000, 28, 28, 1)\n",
            "(28, 28, 1)\n",
            "Model: \"sequential\"\n",
            "_________________________________________________________________\n",
            "Layer (type)                 Output Shape              Param #   \n",
            "=================================================================\n",
            "conv2d (Conv2D)              (None, 26, 26, 128)       1280      \n",
            "_________________________________________________________________\n",
            "batch_normalization (BatchNo (None, 26, 26, 128)       512       \n",
            "_________________________________________________________________\n",
            "conv2d_1 (Conv2D)            (None, 24, 24, 128)       147584    \n",
            "_________________________________________________________________\n",
            "dropout (Dropout)            (None, 24, 24, 128)       0         \n",
            "_________________________________________________________________\n",
            "batch_normalization_1 (Batch (None, 24, 24, 128)       512       \n",
            "_________________________________________________________________\n",
            "max_pooling2d (MaxPooling2D) (None, 12, 12, 128)       0         \n",
            "_________________________________________________________________\n",
            "flatten (Flatten)            (None, 18432)             0         \n",
            "_________________________________________________________________\n",
            "dense (Dense)                (None, 32)                589856    \n",
            "_________________________________________________________________\n",
            "dropout_1 (Dropout)          (None, 32)                0         \n",
            "_________________________________________________________________\n",
            "dense_1 (Dense)              (None, 10)                330       \n",
            "=================================================================\n",
            "Total params: 740,074\n",
            "Trainable params: 739,562\n",
            "Non-trainable params: 512\n",
            "_________________________________________________________________\n",
            "Epoch 1/15\n",
            "1875/1875 [==============================] - 15s 7ms/step - loss: 0.7424 - accuracy: 0.7754 - val_loss: 0.1590 - val_accuracy: 0.9672\n",
            "Epoch 2/15\n",
            "1875/1875 [==============================] - 12s 7ms/step - loss: 0.3127 - accuracy: 0.9021 - val_loss: 0.0917 - val_accuracy: 0.9759\n",
            "Epoch 3/15\n",
            "1875/1875 [==============================] - 12s 7ms/step - loss: 0.2107 - accuracy: 0.9346 - val_loss: 0.0605 - val_accuracy: 0.9844\n",
            "Epoch 4/15\n",
            "1875/1875 [==============================] - 12s 7ms/step - loss: 0.1518 - accuracy: 0.9534 - val_loss: 0.0588 - val_accuracy: 0.9854\n",
            "Epoch 5/15\n",
            "1875/1875 [==============================] - 12s 7ms/step - loss: 0.1269 - accuracy: 0.9607 - val_loss: 0.0532 - val_accuracy: 0.9863\n",
            "Epoch 6/15\n",
            "1875/1875 [==============================] - 12s 7ms/step - loss: 0.0991 - accuracy: 0.9697 - val_loss: 0.0439 - val_accuracy: 0.9890\n",
            "Epoch 7/15\n",
            "1875/1875 [==============================] - 12s 7ms/step - loss: 0.0853 - accuracy: 0.9740 - val_loss: 0.0378 - val_accuracy: 0.9905\n",
            "Epoch 8/15\n",
            "1875/1875 [==============================] - 12s 7ms/step - loss: 0.0688 - accuracy: 0.9797 - val_loss: 0.0496 - val_accuracy: 0.9878\n",
            "Epoch 9/15\n",
            "1875/1875 [==============================] - 12s 7ms/step - loss: 0.0639 - accuracy: 0.9819 - val_loss: 0.0440 - val_accuracy: 0.9885\n",
            "Epoch 10/15\n",
            "1875/1875 [==============================] - 12s 7ms/step - loss: 0.0556 - accuracy: 0.9834 - val_loss: 0.0446 - val_accuracy: 0.9880\n",
            "Epoch 11/15\n",
            "1875/1875 [==============================] - 12s 7ms/step - loss: 0.0509 - accuracy: 0.9851 - val_loss: 0.0495 - val_accuracy: 0.9875\n",
            "Epoch 12/15\n",
            "1875/1875 [==============================] - 12s 6ms/step - loss: 0.0463 - accuracy: 0.9867 - val_loss: 0.0427 - val_accuracy: 0.9885\n",
            "Epoch 13/15\n",
            "1875/1875 [==============================] - 12s 6ms/step - loss: 0.0397 - accuracy: 0.9879 - val_loss: 0.0424 - val_accuracy: 0.9887\n",
            "Epoch 14/15\n",
            "1875/1875 [==============================] - 12s 7ms/step - loss: 0.0363 - accuracy: 0.9889 - val_loss: 0.0544 - val_accuracy: 0.9894\n",
            "Epoch 15/15\n",
            "1875/1875 [==============================] - 12s 7ms/step - loss: 0.0362 - accuracy: 0.9891 - val_loss: 0.0441 - val_accuracy: 0.9888\n"
          ],
          "name": "stdout"
        },
        {
          "output_type": "execute_result",
          "data": {
            "text/plain": [
              "<tensorflow.python.keras.callbacks.History at 0x7feff0048d68>"
            ]
          },
          "metadata": {
            "tags": []
          },
          "execution_count": 1
        }
      ]
    }
  ]
}